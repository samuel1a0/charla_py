{
 "cells": [
  {
   "cell_type": "markdown",
   "metadata": {},
   "source": [
    "# What we do?\n",
    "\n",
    "We are analyzing Pepper data, attempting to recognize the presence or absence of determined adulterant (Such as Sudan I, II, III and IV, and Para Red) in concentrations of 1-5%."
   ]
  },
  {
   "cell_type": "markdown",
   "metadata": {},
   "source": [
    "# Our Target?\n",
    "\n",
    "In \"LDA Example\", we show you a simple way to recognize the previously mentioned adulterants. Now, we are trying to acomplish scores as good its, but with Decision Trees instead of Linear Discriminant Analysis, due to the simplicity of implementation for very low cost handheld devices that can be made with them.\n",
    "\n",
    "## [LDA Example](LDA.ipynb)"
   ]
  },
  {
   "cell_type": "markdown",
   "metadata": {},
   "source": [
    "# The Data?\n",
    "\n",
    "The data are composed by 566 files, each of them represents a single seed, and contains the meassure of 1557 frequencies.\n",
    "The files are divided in 14 classes as follows:\n",
    "* Para Red 1% 40 files\n",
    "* Para Red 2.5% 40 files\n",
    "* Para Red 5% 40 files\n",
    "* Sin Adulterar 41 files\n",
    "* Sudan 1 - 1% 42 files\n",
    "* Sudan 1 - 2.5% 41 files\n",
    "* Sudan 1 - 5% 42 files\n",
    "* Sudan 2 - 1% 40 files\n",
    "* Sudan 2 - 2.5% 40 files\n",
    "* Sudan 2 - 5% 40 files\n",
    "* Sudan 3 - 5% 40 files\n",
    "* Sudan 4 - 1% 40 files\n",
    "* Sudan 4 - 2.5% 40 files\n",
    "* Sudan 4 - 5% 40 files"
   ]
  },
  {
   "cell_type": "markdown",
   "metadata": {},
   "source": [
    "# What we do first?\n"
   ]
  },
  {
   "cell_type": "markdown",
   "metadata": {},
   "source": [
    "## [Recursive Feature Elimination](Recursive Feature Elimination V1.ipynb)\n",
    "\n",
    "## [PCA](PCA.ipynb)\n",
    "\n",
    "## [Oversampling](Oversampling.ipynb)\n",
    "\n",
    "## [Undersampling](Undersampling.ipynb)\n",
    "\n",
    "## [Mean Substraction](Mean substraction.ipynb)"
   ]
  },
  {
   "cell_type": "markdown",
   "metadata": {},
   "source": [
    "# Any Suggestion?\n",
    "\n",
    "### Will be a pleasure to count with your help!"
   ]
  }
 ],
 "metadata": {
  "kernelspec": {
   "display_name": "Python 3",
   "language": "python",
   "name": "python3"
  },
  "language_info": {
   "codemirror_mode": {
    "name": "ipython",
    "version": 3
   },
   "file_extension": ".py",
   "mimetype": "text/x-python",
   "name": "python",
   "nbconvert_exporter": "python",
   "pygments_lexer": "ipython3",
   "version": "3.6.2"
  }
 },
 "nbformat": 4,
 "nbformat_minor": 2
}
